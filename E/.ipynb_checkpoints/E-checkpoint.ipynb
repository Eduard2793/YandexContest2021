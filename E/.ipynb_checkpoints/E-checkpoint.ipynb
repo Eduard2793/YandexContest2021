{
 "cells": [
  {
   "cell_type": "code",
   "execution_count": 1,
   "metadata": {},
   "outputs": [
    {
     "data": {
      "text/plain": [
       "'\\nпострою модель линейной регрессии, но не с 5 параметрами а с 21.\\nна вход будет подаваться всевозможные степенные произведения пяти переменных (всего 21).\\nкоэффициенты перед этими мономами и будут микропараметрами модели.\\nпо этим параметрам буду минимизировать целевую функцию (скорей всего MSE).\\nлибо просто по алгоритму линейной регрессии возьму вектор параметров betta.\\nно главное что входы будут определенным образом структурированы. \\nпотому что я знаю внутреннее устройство моделируемой функции, и мне остается определить ее микропараметры.\\n'"
      ]
     },
     "execution_count": 1,
     "metadata": {},
     "output_type": "execute_result"
    }
   ],
   "source": [
    "'''\n",
    "построю модель линейной регрессии, но не с 5 параметрами а с 21.\n",
    "на вход будет подаваться всевозможные степенные произведения пяти переменных (всего 21).\n",
    "коэффициенты перед этими мономами и будут микропараметрами модели.\n",
    "по этим параметрам буду минимизировать целевую функцию (скорей всего MSE).\n",
    "либо просто по алгоритму линейной регрессии возьму вектор параметров betta.\n",
    "но главное что входы будут определенным образом структурированы. \n",
    "потому что я знаю внутреннее устройство моделируемой функции, и мне остается определить ее микропараметры.\n",
    "'''"
   ]
  },
  {
   "cell_type": "code",
   "execution_count": 2,
   "metadata": {},
   "outputs": [],
   "source": [
    "def F(x0,C):\n",
    "    x1 = []\n",
    "    x2 = []\n",
    "    for i in range(len(x0)):\n",
    "        x1.append(x0[i]**2)\n",
    "    for i in range(len(x0)-1):\n",
    "        x2_i = []\n",
    "        for j in range(1,len(x0)-i):\n",
    "            x2_i.insert(0, (x0[i]*x0[-j]))\n",
    "            \n",
    "        x2 += x2_i\n",
    "            \n",
    "    x = x0 + x1 + x2\n",
    "    \n",
    "    y = 0\n",
    "    for i in range(len(x)):\n",
    "        y += x[i]*C[i]\n",
    "        \n",
    "    return y"
   ]
  },
  {
   "cell_type": "code",
   "execution_count": 58,
   "metadata": {},
   "outputs": [],
   "source": [
    "import random\n",
    "\n",
    "dataF = open('dataTask_E.txt','w')\n",
    "ans = open('answer_Ytest.txt','w')\n",
    "\n",
    "C = [7, 2, 3, 4, 5, 0, 4, 9, 2, 9, 0, 2, 3, 4, 2, 5, 30, 3, 6, 4]\n",
    "X = []\n",
    "for i in range(1000):\n",
    "    x = []\n",
    "    for j in range(5):\n",
    "        xi = random.random()*100\n",
    "        x.append(xi)\n",
    "        dataF.write(str(xi) + '\\t')\n",
    "    \n",
    "    dataF.write(str(F(x,C)) + '\\n')\n",
    "        \n",
    "#     X.append(x)\n",
    "#     y = F(x,C)\n",
    "\n",
    "for i in range(1000):\n",
    "    x = []\n",
    "    for j in range(5):\n",
    "        xi = random.random()*100\n",
    "        x.append(xi)\n",
    "        if j == 4: \n",
    "            dataF.write(str(xi) + '\\n')\n",
    "        else:\n",
    "            dataF.write(str(xi) + '\\t')\n",
    "    \n",
    "    ans.write(str(F(x,C)) + '\\n')\n",
    "        \n",
    "dataF.close()\n",
    "ans.close()\n"
   ]
  },
  {
   "cell_type": "code",
   "execution_count": 59,
   "metadata": {},
   "outputs": [],
   "source": [
    "def getX(x0):\n",
    "    x1 = []\n",
    "    x2 = []\n",
    "    for i in range(len(x0)):\n",
    "        x1.append(x0[i]**2)\n",
    "    for i in range(len(x0)-1):\n",
    "        x2_i = []\n",
    "        for j in range(1,len(x0)-i):\n",
    "            x2_i.insert(0, (x0[i]*x0[-j]))\n",
    "            \n",
    "        x2 += x2_i\n",
    "            \n",
    "    return x0 + x1 + x2\n",
    "\n",
    "#print(getX([1,2,3,4,5]))\n",
    "\n",
    "# [1, 2, 3, 4, 5, 1, 4, 9, 16, 25, 1, 2, 3, 4, 2, 4, 6, 3, 6, 4]\n",
    "\n",
    "# 0 | 0 1 2 3\n",
    "# 1 | 0 1 2 \n",
    "# 2 | 0 1\n",
    "# 3 | 0\n",
    "\n",
    "# 0 | -1 -2 -3 -4\n",
    "# 1 | -1 -2 -3 \n",
    "# 2 | -1 -2\n",
    "# 3 | -1\n",
    "\n",
    "# 0 | 1 2 3 4 = (5 - 4, 5 - 3, 5 - 2, 5 - 1 = -4, -3, -2, -1)\n",
    "# 1 | 2 3 4 = (5 - 3, 5 - 2, 5 - 1 = -3, -2, -1)\n",
    "# 2 | 3 4 = (5 - 2, 5 - 1 = -2, -1)\n",
    "# 3 | 4 = (5 - 1 = -1)\n",
    "    "
   ]
  },
  {
   "cell_type": "code",
   "execution_count": 60,
   "metadata": {},
   "outputs": [],
   "source": [
    "n = 1000\n",
    "\n",
    "Y = []\n",
    "X = []\n",
    "\n",
    "Ans = []\n",
    "\n",
    "indata = open('dataTask_E.txt','r')\n",
    "test_ans = open('answer_Ytest.txt','r')\n",
    "\n",
    "for _ in range(n):\n",
    "    #xy = list(map(float,input().split('\\t')))\n",
    "    \n",
    "    xy = list(map(float,indata.readline().split('\\t')))\n",
    "    Y.append(xy.pop())\n",
    "    X.append(getX(xy))\n",
    "    \n",
    "#print(Y)\n",
    "    \n",
    "X_test = []\n",
    "for _ in range(n):\n",
    "    #X_test.append(list(map(float,input().split('\\t'))))\n",
    "    #print(indata.readline().split('\\t'))\n",
    "    X_test.append(list(map(float,indata.readline().split('\\t'))))\n",
    "    Ans.append(float(test_ans.readline()))\n",
    "\n",
    "indata.close()\n",
    "test_ans.close()\n",
    "\n",
    "    \n",
    "# import numpy as np\n",
    "\n",
    "# X = np.array(X)\n",
    "\n",
    "# Y = np.array(Y)\n",
    "# Y.shape = (n,1)\n",
    "\n",
    "# Y_test = np.array(Y_test)\n",
    "# Y_test.shape = (n,1)\n",
    "\n"
   ]
  },
  {
   "cell_type": "code",
   "execution_count": 61,
   "metadata": {},
   "outputs": [
    {
     "name": "stdout",
     "output_type": "stream",
     "text": [
      "[7.00000000e+00 2.00000000e+00 3.00000000e+00 4.00000000e+00\n",
      " 5.00000000e+00 2.53130850e-14 4.00000000e+00 9.00000000e+00\n",
      " 2.00000000e+00 9.00000000e+00 7.77156117e-15 2.00000000e+00\n",
      " 3.00000000e+00 4.00000000e+00 2.00000000e+00 5.00000000e+00\n",
      " 3.00000000e+01 3.00000000e+00 6.00000000e+00 4.00000000e+00]\n"
     ]
    }
   ],
   "source": [
    "from sklearn import linear_model\n",
    "\n",
    "reg = linear_model.LinearRegression()\n",
    "\n",
    "reg.fit(X,Y)\n",
    "\n",
    "print(reg.coef_)\n",
    "\n",
    "\n"
   ]
  },
  {
   "cell_type": "code",
   "execution_count": 63,
   "metadata": {},
   "outputs": [
    {
     "name": "stdout",
     "output_type": "stream",
     "text": [
      "0.0\n"
     ]
    }
   ],
   "source": [
    "e = 0\n",
    "\n",
    "for i in range(1000):\n",
    "    x = X_test[i]\n",
    "    #print(F(x,C),end=' ')\n",
    "    #print(Ans[i])\n",
    "    \n",
    "    e += (Ans[i] - F(x,C))**2\n",
    "    \n",
    "print(e)  "
   ]
  },
  {
   "cell_type": "code",
   "execution_count": null,
   "metadata": {},
   "outputs": [],
   "source": []
  }
 ],
 "metadata": {
  "kernelspec": {
   "display_name": "Python 3",
   "language": "python",
   "name": "python3"
  },
  "language_info": {
   "codemirror_mode": {
    "name": "ipython",
    "version": 3
   },
   "file_extension": ".py",
   "mimetype": "text/x-python",
   "name": "python",
   "nbconvert_exporter": "python",
   "pygments_lexer": "ipython3",
   "version": "3.7.6"
  }
 },
 "nbformat": 4,
 "nbformat_minor": 4
}
