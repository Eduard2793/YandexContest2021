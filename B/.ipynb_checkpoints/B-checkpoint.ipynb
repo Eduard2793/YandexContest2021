{
 "cells": [
  {
   "cell_type": "code",
   "execution_count": 15,
   "metadata": {},
   "outputs": [],
   "source": [
    "import numpy.random as r"
   ]
  },
  {
   "cell_type": "code",
   "execution_count": 23,
   "metadata": {},
   "outputs": [
    {
     "name": "stdout",
     "output_type": "stream",
     "text": [
      "1 2 1 2 2 2\n",
      "2\n",
      "2.33559\n"
     ]
    }
   ],
   "source": [
    "\n",
    "a = list(map(int,input().split()))\n",
    "k = int(input())\n",
    "\n",
    "S = []\n",
    "for L in range(100000):\n",
    "    b = []\n",
    "    for i in range(k):\n",
    "        b.append(r.choice(a))\n",
    "\n",
    "    for j in range(len(b)-1,0,-1):\n",
    "        if b[j] == b[j-1]:\n",
    "            b[j] = 0\n",
    "    S.append(sum(b))\n",
    "    \n",
    "print(sum(S)/100000)"
   ]
  },
  {
   "cell_type": "code",
   "execution_count": 7,
   "metadata": {},
   "outputs": [
    {
     "name": "stdout",
     "output_type": "stream",
     "text": [
      "1 2 3 2 2 2 3 1 1\n",
      "2\n"
     ]
    }
   ],
   "source": [
    "a = list(map(int,input().split()))\n",
    "print(list(set(a))[1])"
   ]
  },
  {
   "cell_type": "code",
   "execution_count": 2,
   "metadata": {},
   "outputs": [
    {
     "name": "stdout",
     "output_type": "stream",
     "text": [
      "1 1 1 1 1 1\n",
      "3\n",
      "2.666666666666667\n"
     ]
    }
   ],
   "source": [
    "a = list(map(int,input().split()))\n",
    "k = int(input())\n",
    "\n",
    "\n",
    "def E(a):\n",
    "    s_a = list(set(a))\n",
    "    ans = 0\n",
    "    for i in range(len(s_a)):\n",
    "        fr = 0\n",
    "        for j in range(len(a)):\n",
    "            if s_a[i] == a[j]:\n",
    "                fr += 1\n",
    "        ans += fr*s_a[i]/len(a)\n",
    "        \n",
    "    return ans\n",
    "                \n",
    "        \n",
    "\n",
    "print(E(a) + 5*E(a)*(k-1)/6) # 5/6 походу только для 1 2 3 4 5 6"
   ]
  },
  {
   "cell_type": "code",
   "execution_count": 1,
   "metadata": {},
   "outputs": [
    {
     "name": "stdout",
     "output_type": "stream",
     "text": [
      "1 2 1 2 2 2\n",
      "2\n",
      "2.333333333333333\n"
     ]
    }
   ],
   "source": [
    "'''\n",
    "1 1 1 1 1 1\n",
    "3\n",
    "\n",
    "1\n",
    "####\n",
    "1 2 1 2 2 2\n",
    "2\n",
    "\n",
    "2.3333333333\n",
    "'''\n",
    "\n",
    "a = list(map(int,input().split()))\n",
    "k = int(input())\n",
    "################\n",
    "'''\n",
    "b1 b2 .. . bk \n",
    "\n",
    "\n",
    "\n",
    "0   1\n",
    "p1  p2\n",
    "\n",
    "s1   s2  . . . s_n\n",
    "fr1  fr2 . . . fr_n\n",
    "\n",
    "0 s1       s2  ... \n",
    "\n",
    "? fr1*p2   fr2*p2\n",
    "\n",
    "E(zj * bj) = sigma_i=1 ^|S| ( s_i*fr_i*(1-Pz0) )\n",
    "\n",
    "Pz0 =  sigma_i=1^|S| (P(bj = si     итиодлож)*P(b_j-1 = si))\n",
    "\n",
    "E(ksi) = E(b1) + sigma_j=2^k  (E(zj * bj))\n",
    "\n",
    "E(zj * bj) = sigma_i=1^|S| (s_i*fr_i*(1-p1))\n",
    "\n",
    "p1 = P(b_j = s_i)^2\n",
    "\n",
    "#E(zj * bj) = (1-p1)*sigma_i=1^|S| (s_i*fr_i)\n",
    "\n",
    "E(ksi) = E(b1) + \n",
    "'''\n",
    "#################\n",
    "#==================================solved\n",
    "s_a = list(set(a))\n",
    "E_b1 = 0\n",
    "E_sum = 0\n",
    "#Pz0 = 0 # вероятность того что b_j == b_j-1\n",
    "for i in range(len(s_a)):\n",
    "    fr = 0\n",
    "    for j in range(len(a)):\n",
    "        if s_a[i] == a[j]:\n",
    "            fr += 1\n",
    "            \n",
    "    E_b1 += s_a[i]*fr/len(a)\n",
    "    \n",
    "    #Pz0 = (fr/len(a))**2\n",
    "    \n",
    "    E_sum += (1-(fr/len(a)))*s_a[i]*fr/len(a)                        \n",
    "\n",
    "print(E_b1 + (k-1)*E_sum)\n",
    "#print(1-Pz0)"
   ]
  },
  {
   "cell_type": "code",
   "execution_count": 4,
   "metadata": {},
   "outputs": [
    {
     "name": "stdout",
     "output_type": "stream",
     "text": [
      "5.111111111111112\n"
     ]
    }
   ],
   "source": [
    "p1 = 5/6\n",
    "p2 = 1/6\n",
    "\n",
    "E = 3*(p1**3) + 7*(p1**2)*p2 + 10*(p1**2)*p2 + 7*p1*(p2**2) + 7*(p1**2)*p2 + 11*p1*(p2**2) + 7*p1*(p2**2) + 4*(p2**3)\n",
    "print(E)"
   ]
  },
  {
   "cell_type": "code",
   "execution_count": null,
   "metadata": {},
   "outputs": [],
   "source": []
  }
 ],
 "metadata": {
  "kernelspec": {
   "display_name": "Python 3",
   "language": "python",
   "name": "python3"
  },
  "language_info": {
   "codemirror_mode": {
    "name": "ipython",
    "version": 3
   },
   "file_extension": ".py",
   "mimetype": "text/x-python",
   "name": "python",
   "nbconvert_exporter": "python",
   "pygments_lexer": "ipython3",
   "version": "3.7.6"
  }
 },
 "nbformat": 4,
 "nbformat_minor": 4
}
