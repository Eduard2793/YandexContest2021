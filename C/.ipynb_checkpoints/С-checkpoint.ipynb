{
 "cells": [
  {
   "cell_type": "code",
   "execution_count": 1,
   "metadata": {},
   "outputs": [],
   "source": [
    "\n",
    "class Room():\n",
    "    def __init__(self,timetable,name):\n",
    "        self.timetable = timetable\n",
    "        self.name = name\n"
   ]
  },
  {
   "cell_type": "code",
   "execution_count": 2,
   "metadata": {},
   "outputs": [],
   "source": [
    "class Town():\n",
    "    def __init__(self,name):\n",
    "        self.name = name\n",
    "        self.rooms = []\n",
    "        \n",
    "    def addRoom(self,room):\n",
    "        self.rooms.append(room)"
   ]
  },
  {
   "cell_type": "code",
   "execution_count": 3,
   "metadata": {},
   "outputs": [],
   "source": [
    "\n",
    "def findRooms(request): # len = l (л городов хотят созвониться)\n",
    "    for hour in range(24):\n",
    "        # если в заданный час какойто город не имеет свободной комнаты то решения не найдется\n",
    "        chainOfrooms_in_this_hour = []\n",
    "        for T in request:\n",
    "            # есть ли в этот час в этом городе своббодная комната?\n",
    "            for room in T.rooms:\n",
    "                if room.timetable[hour] == \".\":\n",
    "                    # есть свободная комната\n",
    "                    # закончили искать свободную комнату\n",
    "                    # если в следующих городах не будет свободной комнаты то \n",
    "                    # не получится в независимости о того какую мы тут выбрали\n",
    "                    chainOfrooms_in_this_hour.append([T.name,room.name])\n",
    "                    break\n",
    "                    # идем к следующему городу\n",
    "            # и так пройдем по всем городам и если в очередном городе нашлась в этот час свободная комната\n",
    "            # то записываем ее в решение\n",
    "        # закончили обход городов в этот час\n",
    "        # если в решении собралось столько же комнат сколько было городов в запросе\n",
    "        # значит в этот час может произойти созвон между этими городами\n",
    "        # то есть задача решена\n",
    "\n",
    "        if len(chainOfrooms_in_this_hour) == len(request):\n",
    "            # потому что в каждом городе беру только первую попавшуюся комнату\n",
    "            ans = \"Yes \"\n",
    "            for i in range(len(chainOfrooms_in_this_hour)):\n",
    "                t = chainOfrooms_in_this_hour[i][0]\n",
    "                r = chainOfrooms_in_this_hour[i][1]\n",
    "                ans += (t + \"||\" + r + \" \")\n",
    "            return ans\n",
    "    return \"No\"\n"
   ]
  },
  {
   "cell_type": "code",
   "execution_count": 4,
   "metadata": {},
   "outputs": [
    {
     "name": "stdout",
     "output_type": "stream",
     "text": [
      "hgv\n"
     ]
    },
    {
     "ename": "ValueError",
     "evalue": "invalid literal for int() with base 10: 'hgv'",
     "output_type": "error",
     "traceback": [
      "\u001b[1;31m---------------------------------------------------------------------------\u001b[0m",
      "\u001b[1;31mValueError\u001b[0m                                Traceback (most recent call last)",
      "\u001b[1;32m<ipython-input-4-e4f235f72fe1>\u001b[0m in \u001b[0;36m<module>\u001b[1;34m\u001b[0m\n\u001b[0;32m      1\u001b[0m \u001b[1;31m# чтение\u001b[0m\u001b[1;33m\u001b[0m\u001b[1;33m\u001b[0m\u001b[1;33m\u001b[0m\u001b[0m\n\u001b[1;32m----> 2\u001b[1;33m \u001b[0mc\u001b[0m \u001b[1;33m=\u001b[0m \u001b[0mint\u001b[0m\u001b[1;33m(\u001b[0m\u001b[0minput\u001b[0m\u001b[1;33m(\u001b[0m\u001b[1;33m)\u001b[0m\u001b[1;33m)\u001b[0m \u001b[1;31m# number of towns\u001b[0m\u001b[1;33m\u001b[0m\u001b[1;33m\u001b[0m\u001b[0m\n\u001b[0m\u001b[0;32m      3\u001b[0m \u001b[0mtownsDict\u001b[0m \u001b[1;33m=\u001b[0m \u001b[1;33m{\u001b[0m\u001b[1;33m}\u001b[0m\u001b[1;33m\u001b[0m\u001b[1;33m\u001b[0m\u001b[0m\n\u001b[0;32m      4\u001b[0m \u001b[1;32mfor\u001b[0m \u001b[0mi\u001b[0m \u001b[1;32min\u001b[0m \u001b[0mrange\u001b[0m\u001b[1;33m(\u001b[0m\u001b[0mc\u001b[0m\u001b[1;33m)\u001b[0m\u001b[1;33m:\u001b[0m\u001b[1;33m\u001b[0m\u001b[1;33m\u001b[0m\u001b[0m\n\u001b[0;32m      5\u001b[0m     \u001b[0mtown_rooms\u001b[0m \u001b[1;33m=\u001b[0m \u001b[0minput\u001b[0m\u001b[1;33m(\u001b[0m\u001b[1;33m)\u001b[0m\u001b[1;33m.\u001b[0m\u001b[0msplit\u001b[0m\u001b[1;33m(\u001b[0m\u001b[1;33m)\u001b[0m\u001b[1;33m\u001b[0m\u001b[1;33m\u001b[0m\u001b[0m\n",
      "\u001b[1;31mValueError\u001b[0m: invalid literal for int() with base 10: 'hgv'"
     ]
    }
   ],
   "source": [
    "# чтение\n",
    "c = int(input()) # number of towns\n",
    "townsDict = {}\n",
    "for i in range(c):\n",
    "    town_rooms = input().split()\n",
    "    T = Town(town_rooms[0])\n",
    "    for j in range(int(town_rooms[1])):\n",
    "        time_name = input().split()\n",
    "        room = Room(time_name[0],time_name[1])\n",
    "        T.addRoom(room)\n",
    "    townsDict[town_rooms[0]] = T\n",
    "        \n",
    "m = int(input()) # number of requestes\n",
    "for i in range(m):\n",
    "    request = []\n",
    "    l_request = input().split()\n",
    "    for j in range(1,int(l_request[0])+1):\n",
    "        request.append(townsDict[l_request[j]])\n",
    "    print(findRooms(request))\n",
    "\n",
    "\n"
   ]
  },
  {
   "cell_type": "code",
   "execution_count": null,
   "metadata": {},
   "outputs": [],
   "source": []
  }
 ],
 "metadata": {
  "kernelspec": {
   "display_name": "Python 3",
   "language": "python",
   "name": "python3"
  },
  "language_info": {
   "codemirror_mode": {
    "name": "ipython",
    "version": 3
   },
   "file_extension": ".py",
   "mimetype": "text/x-python",
   "name": "python",
   "nbconvert_exporter": "python",
   "pygments_lexer": "ipython3",
   "version": "3.7.6"
  }
 },
 "nbformat": 4,
 "nbformat_minor": 4
}
